{
  "nbformat": 4,
  "nbformat_minor": 0,
  "metadata": {
    "colab": {
      "provenance": [],
      "authorship_tag": "ABX9TyM5l6+QAoIpYE4+6lpctFoG",
      "include_colab_link": true
    },
    "kernelspec": {
      "name": "python3",
      "display_name": "Python 3"
    },
    "language_info": {
      "name": "python"
    }
  },
  "cells": [
    {
      "cell_type": "markdown",
      "metadata": {
        "id": "view-in-github",
        "colab_type": "text"
      },
      "source": [
        "<a href=\"https://colab.research.google.com/github/KeiPome/KeiPome/blob/main/make_mp4.ipynb\" target=\"_parent\"><img src=\"https://colab.research.google.com/assets/colab-badge.svg\" alt=\"Open In Colab\"/></a>"
      ]
    },
    {
      "cell_type": "markdown",
      "source": [
        "# 3年実習用行動実験動画化\n",
        "```\n",
        "data---behavior\n",
        "    |--make_mp4.ipynb\n",
        "    |--adult---GroupN(1-8)\n",
        "    |--5dpf---Control---GroupN(1-8)\n",
        "           |--Tricaine---GroupN(1-8)\n",
        "           |--Picrotoxin---GroupN(1-8)\n",
        "```\n",
        "##トラブルが起きた場合\n",
        "1. エラーコードをそのままググる\n",
        "2. 治らない場合、分かりそうな人に連絡\n",
        "3. 最悪の場合はImageJで動画化する\n",
        "\n",
        "### 注意\n",
        "- dir含めてファイル名に日本語を入れると`OpenCV`に怒られる\n",
        "- 23年度はフレームレートが50なのでその点にくれぐれも注意すること\n",
        "- 階層を変えたら適宜該当箇所は書き換えてください\n",
        "- 基本的に班番号以外をいじらなければ動くはず  \n",
        "  - 下山が普段あまりColab使わないので不明点➞もしかしたらdriveをマウントしないと使えない気がする。  \n",
        "  その場合は[driveをColabにマウントする方法](https://qiita.com/tbshiki/items/ed77f6f9f9ae3761b36d)を読んで下記のように実装したら行けるはず。\n",
        "  ```\n",
        "  from google.colab import drive\n",
        "  drive.mount(\"/content/drive\", force_remount=True)\n",
        "  ```"
      ],
      "metadata": {
        "id": "US4wkkZ3e95X"
      }
    },
    {
      "cell_type": "code",
      "execution_count": 1,
      "metadata": {
        "id": "JKdhfauPe6DP"
      },
      "outputs": [],
      "source": [
        "import os\n",
        "import re\n",
        "import glob\n",
        "import cv2"
      ]
    },
    {
      "cell_type": "code",
      "source": [
        "#班番号\n",
        "groupN=1"
      ],
      "metadata": {
        "id": "WxCJ_zE3gDvM"
      },
      "execution_count": 2,
      "outputs": []
    },
    {
      "cell_type": "code",
      "source": [
        "dirs=['adult','5dpf/Control','5dpf/Tricaine','5dpf/Picrotoxin']"
      ],
      "metadata": {
        "id": "prOY-3x4gpqX"
      },
      "execution_count": 4,
      "outputs": []
    },
    {
      "cell_type": "code",
      "source": [
        "def atoi(text):\n",
        "    return int(text) if text.isdigit() else text\n",
        "\n",
        "def natural_keys(text):\n",
        "    return [ atoi(c) for c in re.split(r'(\\d+)', text) ]"
      ],
      "metadata": {
        "id": "S26z2jZtgwrD"
      },
      "execution_count": 6,
      "outputs": []
    },
    {
      "cell_type": "code",
      "source": [
        "def mkmp4(imgdir,outputdir):\n",
        "  img_array = []\n",
        "  files=sorted(glob.glob(f'{imgdir}/*.jpg'),key=natural_keys)\n",
        "  print(files)\n",
        "  for filename in files:\n",
        "      img = cv2.imread(filename)\n",
        "      height, width, layers = img.shape\n",
        "      size = (width, height)\n",
        "      img_array.append(img)\n",
        "\n",
        "  out = cv2.VideoWriter(f'{outputdir}/{str(groupN)}.mp4', cv2.VideoWriter_fourcc(*'MP4V'), 50, size)\n",
        "\n",
        "  for i in range(len(img_array)):\n",
        "      out.write(img_array[i])\n",
        "  out.release()"
      ],
      "metadata": {
        "id": "ANo7885uiSKf"
      },
      "execution_count": 25,
      "outputs": []
    },
    {
      "cell_type": "code",
      "source": [
        "for dir in dirs:\n",
        "  mkmp4(f'{dir}/{groupN}',f'{dir}/mp4')"
      ],
      "metadata": {
        "id": "JWenvw6tkzhH"
      },
      "execution_count": 26,
      "outputs": []
    },
    {
      "cell_type": "code",
      "source": [],
      "metadata": {
        "id": "hRiVXkaqj3tJ"
      },
      "execution_count": 26,
      "outputs": []
    },
    {
      "cell_type": "code",
      "source": [],
      "metadata": {
        "id": "YSkq8L09kmpq"
      },
      "execution_count": null,
      "outputs": []
    }
  ]
}